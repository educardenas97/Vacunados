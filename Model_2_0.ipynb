{
  "nbformat": 4,
  "nbformat_minor": 0,
  "metadata": {
    "colab": {
      "name": "Model 2.0.ipynb",
      "provenance": [],
      "collapsed_sections": [],
      "mount_file_id": "1_a1hROYR248kc1LyoeaZJ8nCIfYwRyPi",
      "authorship_tag": "ABX9TyPZnrUkNO8E0C15ykS8vS92",
      "include_colab_link": true
    },
    "kernelspec": {
      "name": "python3",
      "display_name": "Python 3"
    },
    "language_info": {
      "name": "python"
    }
  },
  "cells": [
    {
      "cell_type": "markdown",
      "metadata": {
        "id": "view-in-github",
        "colab_type": "text"
      },
      "source": [
        "<a href=\"https://colab.research.google.com/github/educardenas97/Vacunados/blob/Backend/Model_2_0.ipynb\" target=\"_parent\"><img src=\"https://colab.research.google.com/assets/colab-badge.svg\" alt=\"Open In Colab\"/></a>"
      ]
    },
    {
      "cell_type": "code",
      "metadata": {
        "id": "9PY9mAoVw6Qp"
      },
      "source": [
        "!wget https://www.mspbs.gov.py/xweb/vacunados.csv  -P /tmp/ -o vacunados.csv --no-check-certificate"
      ],
      "execution_count": null,
      "outputs": []
    },
    {
      "cell_type": "code",
      "metadata": {
        "id": "vc2_yI2q9iFw"
      },
      "source": [
        "import pandas as pd\n",
        "import numpy as np\n",
        "import matplotlib.pyplot as plt\n",
        "import gc\n",
        "import os\n",
        "\n",
        "#Limits of dataset\n",
        "upper_limit = 2003\n",
        "lower_limit = 1960\n",
        "\n",
        "\n",
        "csv = pd.read_csv('./drive/MyDrive/Colab Notebooks/vacunados/vacunados.csv', sep=';')\n",
        "csv_2 = pd.read_csv('./drive/MyDrive/Colab Notebooks/vacunados/padron.csv', sep=',')"
      ],
      "execution_count": null,
      "outputs": []
    },
    {
      "cell_type": "code",
      "metadata": {
        "id": "STtF01bS9KzU"
      },
      "source": [
        "data = csv.copy()\n",
        "data = data[data['cedula'].astype(str).str.isdigit()]\n",
        "data['cedula'] = pd.to_numeric(data['cedula'])\n",
        "data['dosis'] = data['dosis'].astype(int)\n",
        "data['fecha_aplicacion'] = pd.to_datetime(data['fecha_aplicacion'])\n",
        "data['fecha_aplicacion'] = data['fecha_aplicacion'].dt.strftime(\"%U\").astype(int)\n",
        "\n",
        "#Filter data\n",
        "data = data[data['fecha_aplicacion']>4]\n",
        "data = data[data['cedula']<90000000]\n",
        "data = data[data['dosis']==1]"
      ],
      "execution_count": null,
      "outputs": []
    },
    {
      "cell_type": "code",
      "metadata": {
        "colab": {
          "base_uri": "https://localhost:8080/",
          "height": 312
        },
        "id": "9AYxeT_0jhJy",
        "outputId": "176dc279-6a7d-4361-d16a-5a6649cc503a"
      },
      "source": [
        "#Primera parte\n",
        "data.head()\n",
        "data.describe()\n",
        "mean = data.groupby('fecha_aplicacion').std()\n",
        "\n",
        "fig, ax = plt.subplots()\n",
        "ax.scatter(mean.index, mean['cedula'])\n",
        "# set a title and labels\n",
        "ax.set_title('Cedula vs Fecha')\n",
        "ax.set_ylabel('cedula')\n",
        "ax.set_xlabel('fecha')"
      ],
      "execution_count": null,
      "outputs": [
        {
          "output_type": "execute_result",
          "data": {
            "text/plain": [
              "Text(0.5, 0, 'fecha')"
            ]
          },
          "metadata": {},
          "execution_count": 16
        },
        {
          "output_type": "display_data",
          "data": {
            "image/png": "[encoded data removed]",
            "text/plain": [
              "<Figure size 432x288 with 1 Axes>"
            ]
          },
          "metadata": {
            "needs_background": "light"
          }
        }
      ]
    },
    {
      "cell_type": "code",
      "metadata": {
        "id": "UxpDf1WhtPkK",
        "colab": {
          "base_uri": "https://localhost:8080/"
        },
        "outputId": "d93b761c-7317-4661-b747-4c4917de0b1c"
      },
      "source": [
        "print(csv_2.shape)\n",
        "csv.head()\n",
        "padron = csv_2.copy()\n",
        "join_dataframe = data.join(padron.set_index('id'), on='cedula', how='inner')\n",
        "join_dataframe.head()\n"
      ],
      "execution_count": null,
      "outputs": [
        {
          "output_type": "stream",
          "name": "stdout",
          "text": [
            "(774410, 3)\n"
          ]
        },
        {
          "output_type": "execute_result",
          "data": {
            "text/html": [
              "<div>\n",
              "<style scoped>\n",
              "    .dataframe tbody tr th:only-of-type {\n",
              "        vertical-align: middle;\n",
              "    }\n",
              "\n",
              "    .dataframe tbody tr th {\n",
              "        vertical-align: top;\n",
              "    }\n",
              "\n",
              "    .dataframe thead th {\n",
              "        text-align: right;\n",
              "    }\n",
              "</style>\n",
              "<table border=\"1\" class=\"dataframe\">\n",
              "  <thead>\n",
              "    <tr style=\"text-align: right;\">\n",
              "      <th></th>\n",
              "      <th>nombre</th>\n",
              "      <th>apellido</th>\n",
              "      <th>establecimiento</th>\n",
              "      <th>fecha_aplicacion</th>\n",
              "      <th>cedula</th>\n",
              "      <th>dosis</th>\n",
              "      <th>descripcion_vacuna</th>\n",
              "      <th>actualizado_al</th>\n",
              "      <th>year</th>\n",
              "      <th>date</th>\n",
              "    </tr>\n",
              "  </thead>\n",
              "  <tbody>\n",
              "    <tr>\n",
              "      <th>355</th>\n",
              "      <td>ENZO ANTONIO</td>\n",
              "      <td>ROMERO FERNANDEZ</td>\n",
              "      <td>HD Itá</td>\n",
              "      <td>39</td>\n",
              "      <td>4991012</td>\n",
              "      <td>1</td>\n",
              "      <td>PFIZER - COVID -19</td>\n",
              "      <td>2021-11-05 18:00:04</td>\n",
              "      <td>1995</td>\n",
              "      <td>26</td>\n",
              "    </tr>\n",
              "    <tr>\n",
              "      <th>396</th>\n",
              "      <td>CLARA ELENA</td>\n",
              "      <td>LEON LOPEZ</td>\n",
              "      <td>Sede social de la cooperativa Ñemby</td>\n",
              "      <td>39</td>\n",
              "      <td>751373</td>\n",
              "      <td>1</td>\n",
              "      <td>ASTRAZENECA-CHADOX1-S - COVID-19</td>\n",
              "      <td>2021-11-05 18:00:04</td>\n",
              "      <td>1960</td>\n",
              "      <td>61</td>\n",
              "    </tr>\n",
              "    <tr>\n",
              "      <th>640</th>\n",
              "      <td>SOFIA BEATRIZ</td>\n",
              "      <td>CUEVAS ROJAS</td>\n",
              "      <td>HD Itá</td>\n",
              "      <td>39</td>\n",
              "      <td>4574458</td>\n",
              "      <td>1</td>\n",
              "      <td>ASTRAZENECA-CHADOX1-S - COVID-19</td>\n",
              "      <td>2021-11-05 18:00:04</td>\n",
              "      <td>1983</td>\n",
              "      <td>38</td>\n",
              "    </tr>\n",
              "    <tr>\n",
              "      <th>1278</th>\n",
              "      <td>CESAR RAMON</td>\n",
              "      <td>ACOSTA ESQUIVEL</td>\n",
              "      <td>HD Itá</td>\n",
              "      <td>39</td>\n",
              "      <td>6555432</td>\n",
              "      <td>1</td>\n",
              "      <td>PFIZER - COVID -19</td>\n",
              "      <td>2021-11-05 18:00:04</td>\n",
              "      <td>2000</td>\n",
              "      <td>21</td>\n",
              "    </tr>\n",
              "    <tr>\n",
              "      <th>1662</th>\n",
              "      <td>DAVID</td>\n",
              "      <td>VELAZQUEZ IRALA</td>\n",
              "      <td>HR San Pedro</td>\n",
              "      <td>39</td>\n",
              "      <td>3488028</td>\n",
              "      <td>1</td>\n",
              "      <td>ASTRAZENECA-CHADOX1-S - COVID-19</td>\n",
              "      <td>2021-11-05 18:00:04</td>\n",
              "      <td>1983</td>\n",
              "      <td>38</td>\n",
              "    </tr>\n",
              "  </tbody>\n",
              "</table>\n",
              "</div>"
            ],
            "text/plain": [
              "             nombre          apellido  ...  year  date\n",
              "355    ENZO ANTONIO  ROMERO FERNANDEZ  ...  1995    26\n",
              "396     CLARA ELENA        LEON LOPEZ  ...  1960    61\n",
              "640   SOFIA BEATRIZ      CUEVAS ROJAS  ...  1983    38\n",
              "1278    CESAR RAMON   ACOSTA ESQUIVEL  ...  2000    21\n",
              "1662          DAVID   VELAZQUEZ IRALA  ...  1983    38\n",
              "\n",
              "[5 rows x 10 columns]"
            ]
          },
          "metadata": {},
          "execution_count": 8
        }
      ]
    },
    {
      "cell_type": "code",
      "metadata": {
        "colab": {
          "base_uri": "https://localhost:8080/",
          "height": 542
        },
        "id": "Oo3CDlzHxxkK",
        "outputId": "320f530b-152b-499f-c1e0-7374f5575983"
      },
      "source": [
        "import plotly.express as px\n",
        "fig = px.scatter_3d(join_dataframe.sample(n=250), x='cedula', y='fecha_aplicacion', z='date', color='descripcion_vacuna')\n",
        "fig.show()"
      ],
      "execution_count": null,
      "outputs": [
        {
          "output_type": "display_data",
          "data": {
            "text/html": [
              "<html>\n",
              "<head><meta charset=\"utf-8\" /></head>\n",
              "<body>\n",
              "    <div>\n",
              "            <script src=\"https://cdnjs.cloudflare.com/ajax/libs/mathjax/2.7.5/MathJax.js?config=TeX-AMS-MML_SVG\"></script><script type=\"text/javascript\">if (window.MathJax) {MathJax.Hub.Config({SVG: {font: \"STIX-Web\"}});}</script>\n",
              "                <script type=\"text/javascript\">window.PlotlyConfig = {MathJaxConfig: 'local'};</script>\n",
              "        <script src=\"https://cdn.plot.ly/plotly-latest.min.js\"></script>    \n",
              "            <div id=\"b4126dcb-4ee9-436f-b46e-41adaa09b00e\" class=\"plotly-graph-div\" style=\"height:525px; width:100%;\"></div>\n",
              "            <script type=\"text/javascript\">\n",
              "                \n",
              "                    window.PLOTLYENV=window.PLOTLYENV || {};\n",
              "                    \n",
              "                if (document.getElementById(\"b4126dcb-4ee9-436f-b46e-41adaa09b00e\")) {\n",
              "                    Plotly.newPlot(\n",
              "                        'b4126dcb-4ee9-436f-b46e-41adaa09b00e',\n",
              "                        [{\"hoverlabel\": {\"namelength\": 0}, \"hovertemplate\": \"descripcion_vacuna=MODERNA - COVID -19<br>cedula=%{x}<br>fecha_aplicacion=%{y}<br>date=%{z}\", \"legendgroup\": \"descripcion_vacuna=MODERNA - COVID -19\", \"marker\": {\"color\": \"#636efa\", \"symbol\": \"circle\"}, \"mode\": \"markers\", \"name\": \"descripcion_vacuna=MODERNA - COVID -19\", \"scene\": \"scene\", \"showlegend\": true, \"type\": \"scatter3d\", \"x\": [4353024, 5290509, 2120779, 3472855, 1814281, 2112009, 1466518, 3522103, 991515, 6246218, 5044568, 4844860, 4789747, 3504726, 2104887, 7659876], \"y\": [27, 36, 36, 27, 27, 26, 25, 27, 27, 36, 36, 27, 27, 37, 25, 24], \"z\": [35, 23, 47, 31, 46, 52, 57, 29, 46, 21, 20, 22, 32, 37, 51, 18]}, {\"hoverlabel\": {\"namelength\": 0}, \"hovertemplate\": \"descripcion_vacuna=PFIZER - COVID -19<br>cedula=%{x}<br>fecha_aplicacion=%{y}<br>date=%{z}\", \"legendgroup\": \"descripcion_vacuna=PFIZER - COVID -19\", \"marker\": {\"color\": \"#EF553B\", \"symbol\": \"circle\"}, \"mode\": \"markers\", \"name\": \"descripcion_vacuna=PFIZER - COVID -19\", \"scene\": \"scene\", \"showlegend\": true, \"type\": \"scatter3d\", \"x\": [7164718, 3502470, 5182045, 4659303, 2546900, 4688987, 4489304, 2347474, 5307068, 3438437, 5548421, 1990471, 4648072, 4559848, 3859432, 4896017, 3839371, 4718782, 5174930, 3754982, 3669777, 5429094, 6721065, 5723336, 4918908, 5223710, 5042166, 6080974, 4933148, 3285777, 4644093, 5502525, 375444, 3495474, 3582013, 7114748, 5112196, 3812794, 4190252, 6228336, 4754872, 3630210, 2058406, 4029463, 7565071, 5708236, 793032, 1293010, 4616140, 5355087, 6322421, 2411883, 4711110, 7174349, 4620757, 4660885, 3984388, 4957646, 3426941, 2358956, 3796022, 6990419, 4808617, 6779143, 4332842, 1127920, 2045816, 6840577, 6795643, 4030114, 4212442, 1840769, 6269079, 4612889, 2391157, 5645923, 2361464, 5726019, 6854905, 4460000, 5166854, 2362865, 4793262, 5909983, 2497853, 7248919, 4982136, 2009876, 1698914, 4708748, 5965925, 5074395, 2135593, 5407175, 6551423, 5043432, 3919070, 6291361], \"y\": [39, 28, 38, 29, 28, 39, 36, 28, 39, 28, 29, 28, 29, 29, 29, 30, 28, 36, 29, 28, 28, 29, 40, 30, 30, 29, 30, 38, 36, 28, 29, 36, 28, 30, 28, 30, 38, 28, 29, 30, 29, 28, 28, 28, 37, 37, 28, 30, 29, 30, 44, 28, 29, 29, 30, 30, 29, 28, 28, 28, 29, 30, 29, 37, 29, 28, 28, 30, 39, 28, 29, 30, 37, 29, 28, 29, 28, 39, 30, 29, 30, 28, 29, 29, 29, 37, 30, 28, 28, 30, 30, 30, 28, 37, 36, 29, 28, 38], \"z\": [23, 39, 18, 22, 42, 23, 30, 45, 25, 41, 25, 48, 23, 34, 39, 24, 39, 33, 22, 38, 38, 20, 22, 20, 24, 29, 25, 19, 23, 43, 33, 33, 77, 30, 44, 23, 18, 37, 30, 27, 31, 44, 45, 37, 19, 18, 49, 85, 31, 21, 22, 47, 28, 21, 21, 24, 40, 29, 42, 48, 27, 23, 24, 20, 25, 72, 42, 30, 29, 35, 33, 49, 19, 40, 43, 32, 49, 20, 31, 24, 24, 46, 30, 20, 45, 19, 20, 49, 49, 23, 22, 20, 60, 20, 24, 30, 44, 18]}, {\"hoverlabel\": {\"namelength\": 0}, \"hovertemplate\": \"descripcion_vacuna=SPUTNIK V COVID-19<br>cedula=%{x}<br>fecha_aplicacion=%{y}<br>date=%{z}\", \"legendgroup\": \"descripcion_vacuna=SPUTNIK V COVID-19\", \"marker\": {\"color\": \"#00cc96\", \"symbol\": \"circle\"}, \"mode\": \"markers\", \"name\": \"descripcion_vacuna=SPUTNIK V COVID-19\", \"scene\": \"scene\", \"showlegend\": true, \"type\": \"scatter3d\", \"x\": [4652883, 1046320, 917737, 3668019, 3656199, 2093772, 1054799, 4281766, 899398, 428324, 2509986, 4811315, 378056, 5422152, 387833, 667559, 802509, 1068650, 3775818, 2391720, 8450788, 6066082, 1569409, 317788, 4954648, 5306644, 5944429, 2929924, 2301938, 4637379, 2352627, 5024395, 824708, 3966765, 688189, 5888810, 492711, 4781119, 1739792, 4443127, 5016718, 2484892, 6026208, 869278, 415149, 4977689, 5929979, 1400039, 4588783, 501377, 5604181, 3525423, 6128507, 4833366, 1818437], \"y\": [36, 24, 24, 29, 27, 27, 24, 26, 24, 24, 27, 28, 24, 36, 20, 29, 27, 24, 27, 9, 27, 29, 27, 20, 36, 27, 27, 26, 27, 36, 27, 36, 20, 27, 20, 27, 21, 36, 27, 27, 24, 26, 36, 23, 23, 36, 41, 25, 26, 20, 29, 36, 36, 28, 28], \"z\": [26, 63, 57, 42, 39, 46, 56, 35, 60, 67, 44, 36, 70, 24, 70, 68, 58, 57, 30, 39, 18, 29, 39, 70, 27, 21, 32, 40, 45, 34, 45, 23, 65, 29, 68, 26, 67, 26, 42, 35, 24, 42, 26, 61, 68, 32, 28, 60, 21, 69, 22, 30, 27, 33, 38]}, {\"hoverlabel\": {\"namelength\": 0}, \"hovertemplate\": \"descripcion_vacuna=ASTRAZENECA-CHADOX1-S - COVID-19<br>cedula=%{x}<br>fecha_aplicacion=%{y}<br>date=%{z}\", \"legendgroup\": \"descripcion_vacuna=ASTRAZENECA-CHADOX1-S - COVID-19\", \"marker\": {\"color\": \"#ab63fa\", \"symbol\": \"circle\"}, \"mode\": \"markers\", \"name\": \"descripcion_vacuna=ASTRAZENECA-CHADOX1-S - COVID-19\", \"scene\": \"scene\", \"showlegend\": true, \"type\": \"scatter3d\", \"x\": [2549961, 4310837, 3825732, 2352060, 741989, 1405923, 1979332, 1437601, 1494972, 450478, 1079445, 736195, 1371599, 799820, 522791, 193590, 378378, 1419895, 1410423, 221951, 1147192, 873264, 703469, 3385298, 3509287, 337546, 2501353, 942961, 1040239, 1920448, 2121310, 983720, 561238, 634674, 619721, 381363, 1730551, 821232, 669280, 542705, 3749635, 281062, 428994, 4598609, 1276141, 689008, 439206, 347187, 3899913, 809873, 1697708, 647085, 1931727, 1226963], \"y\": [37, 39, 44, 23, 21, 26, 37, 37, 26, 20, 25, 25, 26, 23, 20, 15, 37, 22, 26, 15, 21, 23, 23, 43, 39, 20, 39, 25, 27, 26, 26, 25, 37, 19, 18, 37, 26, 37, 19, 18, 39, 23, 15, 41, 26, 24, 17, 25, 27, 19, 42, 27, 38, 37], \"z\": [50, 34, 36, 56, 67, 50, 93, 59, 53, 65, 53, 53, 51, 57, 65, 86, 72, 61, 52, 87, 69, 58, 61, 41, 36, 74, 45, 54, 53, 54, 53, 59, 63, 72, 75, 69, 51, 59, 70, 89, 38, 76, 89, 34, 50, 57, 76, 71, 69, 72, 50, 64, 63, 56]}, {\"hoverlabel\": {\"namelength\": 0}, \"hovertemplate\": \"descripcion_vacuna=COVAXIN COVID-19<br>cedula=%{x}<br>fecha_aplicacion=%{y}<br>date=%{z}\", \"legendgroup\": \"descripcion_vacuna=COVAXIN COVID-19\", \"marker\": {\"color\": \"#FFA15A\", \"symbol\": \"circle\"}, \"mode\": \"markers\", \"name\": \"descripcion_vacuna=COVAXIN COVID-19\", \"scene\": \"scene\", \"showlegend\": true, \"type\": \"scatter3d\", \"x\": [1482216, 363154, 146871, 4685608, 2967091, 2201737, 1297629, 1241148, 1540447, 3678026, 274234, 2169524, 3686298, 1994806], \"y\": [15, 19, 15, 21, 18, 19, 19, 15, 21, 19, 17, 15, 16, 18], \"z\": [50, 72, 89, 31, 48, 39, 52, 60, 40, 39, 79, 45, 37, 79]}, {\"hoverlabel\": {\"namelength\": 0}, \"hovertemplate\": \"descripcion_vacuna=HAYAT VAX COVID-19<br>cedula=%{x}<br>fecha_aplicacion=%{y}<br>date=%{z}\", \"legendgroup\": \"descripcion_vacuna=HAYAT VAX COVID-19\", \"marker\": {\"color\": \"#19d3f3\", \"symbol\": \"circle\"}, \"mode\": \"markers\", \"name\": \"descripcion_vacuna=HAYAT VAX COVID-19\", \"scene\": \"scene\", \"showlegend\": true, \"type\": \"scatter3d\", \"x\": [572875, 1278509, 1142909, 3867753, 847532, 1136179, 598548, 832703, 748875, 863601, 1237971], \"y\": [22, 22, 22, 21, 22, 21, 22, 22, 23, 22, 22], \"z\": [62, 83, 62, 72, 62, 67, 62, 64, 60, 62, 62]}, {\"hoverlabel\": {\"namelength\": 0}, \"hovertemplate\": \"descripcion_vacuna=SINOPHARM COVID-19<br>cedula=%{x}<br>fecha_aplicacion=%{y}<br>date=%{z}\", \"legendgroup\": \"descripcion_vacuna=SINOPHARM COVID-19\", \"marker\": {\"color\": \"#FF6692\", \"symbol\": \"circle\"}, \"mode\": \"markers\", \"name\": \"descripcion_vacuna=SINOPHARM COVID-19\", \"scene\": \"scene\", \"showlegend\": true, \"type\": \"scatter3d\", \"x\": [5708680, 5689522], \"y\": [44, 44], \"z\": [19, 24]}],\n",
              "                        {\"legend\": {\"tracegroupgap\": 0}, \"margin\": {\"t\": 60}, \"scene\": {\"domain\": {\"x\": [0.0, 1.0], \"y\": [0.0, 1.0]}, \"xaxis\": {\"title\": {\"text\": \"cedula\"}}, \"yaxis\": {\"title\": {\"text\": \"fecha_aplicacion\"}}, \"zaxis\": {\"title\": {\"text\": \"date\"}}}, \"template\": {\"data\": {\"bar\": [{\"error_x\": {\"color\": \"#2a3f5f\"}, \"error_y\": {\"color\": \"#2a3f5f\"}, \"marker\": {\"line\": {\"color\": \"#E5ECF6\", \"width\": 0.5}}, \"type\": \"bar\"}], \"barpolar\": [{\"marker\": {\"line\": {\"color\": \"#E5ECF6\", \"width\": 0.5}}, \"type\": \"barpolar\"}], \"carpet\": [{\"aaxis\": {\"endlinecolor\": \"#2a3f5f\", \"gridcolor\": \"white\", \"linecolor\": \"white\", \"minorgridcolor\": \"white\", \"startlinecolor\": \"#2a3f5f\"}, \"baxis\": {\"endlinecolor\": \"#2a3f5f\", \"gridcolor\": \"white\", \"linecolor\": \"white\", \"minorgridcolor\": \"white\", \"startlinecolor\": \"#2a3f5f\"}, \"type\": \"carpet\"}], \"choropleth\": [{\"colorbar\": {\"outlinewidth\": 0, \"ticks\": \"\"}, \"type\": \"choropleth\"}], \"contour\": [{\"colorbar\": {\"outlinewidth\": 0, \"ticks\": \"\"}, \"colorscale\": [[0.0, \"#0d0887\"], [0.1111111111111111, \"#46039f\"], [0.2222222222222222, \"#7201a8\"], [0.3333333333333333, \"#9c179e\"], [0.4444444444444444, \"#bd3786\"], [0.5555555555555556, \"#d8576b\"], [0.6666666666666666, \"#ed7953\"], [0.7777777777777778, \"#fb9f3a\"], [0.8888888888888888, \"#fdca26\"], [1.0, \"#f0f921\"]], \"type\": \"contour\"}], \"contourcarpet\": [{\"colorbar\": {\"outlinewidth\": 0, \"ticks\": \"\"}, \"type\": \"contourcarpet\"}], \"heatmap\": [{\"colorbar\": {\"outlinewidth\": 0, \"ticks\": \"\"}, \"colorscale\": [[0.0, \"#0d0887\"], [0.1111111111111111, \"#46039f\"], [0.2222222222222222, \"#7201a8\"], [0.3333333333333333, \"#9c179e\"], [0.4444444444444444, \"#bd3786\"], [0.5555555555555556, \"#d8576b\"], [0.6666666666666666, \"#ed7953\"], [0.7777777777777778, \"#fb9f3a\"], [0.8888888888888888, \"#fdca26\"], [1.0, \"#f0f921\"]], \"type\": \"heatmap\"}], \"heatmapgl\": [{\"colorbar\": {\"outlinewidth\": 0, \"ticks\": \"\"}, \"colorscale\": [[0.0, \"#0d0887\"], [0.1111111111111111, \"#46039f\"], [0.2222222222222222, \"#7201a8\"], [0.3333333333333333, \"#9c179e\"], [0.4444444444444444, \"#bd3786\"], [0.5555555555555556, \"#d8576b\"], [0.6666666666666666, \"#ed7953\"], [0.7777777777777778, \"#fb9f3a\"], [0.8888888888888888, \"#fdca26\"], [1.0, \"#f0f921\"]], \"type\": \"heatmapgl\"}], \"histogram\": [{\"marker\": {\"colorbar\": {\"outlinewidth\": 0, \"ticks\": \"\"}}, \"type\": \"histogram\"}], \"histogram2d\": [{\"colorbar\": {\"outlinewidth\": 0, \"ticks\": \"\"}, \"colorscale\": [[0.0, \"#0d0887\"], [0.1111111111111111, \"#46039f\"], [0.2222222222222222, \"#7201a8\"], [0.3333333333333333, \"#9c179e\"], [0.4444444444444444, \"#bd3786\"], [0.5555555555555556, \"#d8576b\"], [0.6666666666666666, \"#ed7953\"], [0.7777777777777778, \"#fb9f3a\"], [0.8888888888888888, \"#fdca26\"], [1.0, \"#f0f921\"]], \"type\": \"histogram2d\"}], \"histogram2dcontour\": [{\"colorbar\": {\"outlinewidth\": 0, \"ticks\": \"\"}, \"colorscale\": [[0.0, \"#0d0887\"], [0.1111111111111111, \"#46039f\"], [0.2222222222222222, \"#7201a8\"], [0.3333333333333333, \"#9c179e\"], [0.4444444444444444, \"#bd3786\"], [0.5555555555555556, \"#d8576b\"], [0.6666666666666666, \"#ed7953\"], [0.7777777777777778, \"#fb9f3a\"], [0.8888888888888888, \"#fdca26\"], [1.0, \"#f0f921\"]], \"type\": \"histogram2dcontour\"}], \"mesh3d\": [{\"colorbar\": {\"outlinewidth\": 0, \"ticks\": \"\"}, \"type\": \"mesh3d\"}], \"parcoords\": [{\"line\": {\"colorbar\": {\"outlinewidth\": 0, \"ticks\": \"\"}}, \"type\": \"parcoords\"}], \"pie\": [{\"automargin\": true, \"type\": \"pie\"}], \"scatter\": [{\"marker\": {\"colorbar\": {\"outlinewidth\": 0, \"ticks\": \"\"}}, \"type\": \"scatter\"}], \"scatter3d\": [{\"line\": {\"colorbar\": {\"outlinewidth\": 0, \"ticks\": \"\"}}, \"marker\": {\"colorbar\": {\"outlinewidth\": 0, \"ticks\": \"\"}}, \"type\": \"scatter3d\"}], \"scattercarpet\": [{\"marker\": {\"colorbar\": {\"outlinewidth\": 0, \"ticks\": \"\"}}, \"type\": \"scattercarpet\"}], \"scattergeo\": [{\"marker\": {\"colorbar\": {\"outlinewidth\": 0, \"ticks\": \"\"}}, \"type\": \"scattergeo\"}], \"scattergl\": [{\"marker\": {\"colorbar\": {\"outlinewidth\": 0, \"ticks\": \"\"}}, \"type\": \"scattergl\"}], \"scattermapbox\": [{\"marker\": {\"colorbar\": {\"outlinewidth\": 0, \"ticks\": \"\"}}, \"type\": \"scattermapbox\"}], \"scatterpolar\": [{\"marker\": {\"colorbar\": {\"outlinewidth\": 0, \"ticks\": \"\"}}, \"type\": \"scatterpolar\"}], \"scatterpolargl\": [{\"marker\": {\"colorbar\": {\"outlinewidth\": 0, \"ticks\": \"\"}}, \"type\": \"scatterpolargl\"}], \"scatterternary\": [{\"marker\": {\"colorbar\": {\"outlinewidth\": 0, \"ticks\": \"\"}}, \"type\": \"scatterternary\"}], \"surface\": [{\"colorbar\": {\"outlinewidth\": 0, \"ticks\": \"\"}, \"colorscale\": [[0.0, \"#0d0887\"], [0.1111111111111111, \"#46039f\"], [0.2222222222222222, \"#7201a8\"], [0.3333333333333333, \"#9c179e\"], [0.4444444444444444, \"#bd3786\"], [0.5555555555555556, \"#d8576b\"], [0.6666666666666666, \"#ed7953\"], [0.7777777777777778, \"#fb9f3a\"], [0.8888888888888888, \"#fdca26\"], [1.0, \"#f0f921\"]], \"type\": \"surface\"}], \"table\": [{\"cells\": {\"fill\": {\"color\": \"#EBF0F8\"}, \"line\": {\"color\": \"white\"}}, \"header\": {\"fill\": {\"color\": \"#C8D4E3\"}, \"line\": {\"color\": \"white\"}}, \"type\": \"table\"}]}, \"layout\": {\"annotationdefaults\": {\"arrowcolor\": \"#2a3f5f\", \"arrowhead\": 0, \"arrowwidth\": 1}, \"coloraxis\": {\"colorbar\": {\"outlinewidth\": 0, \"ticks\": \"\"}}, \"colorscale\": {\"diverging\": [[0, \"#8e0152\"], [0.1, \"#c51b7d\"], [0.2, \"#de77ae\"], [0.3, \"#f1b6da\"], [0.4, \"#fde0ef\"], [0.5, \"#f7f7f7\"], [0.6, \"#e6f5d0\"], [0.7, \"#b8e186\"], [0.8, \"#7fbc41\"], [0.9, \"#4d9221\"], [1, \"#276419\"]], \"sequential\": [[0.0, \"#0d0887\"], [0.1111111111111111, \"#46039f\"], [0.2222222222222222, \"#7201a8\"], [0.3333333333333333, \"#9c179e\"], [0.4444444444444444, \"#bd3786\"], [0.5555555555555556, \"#d8576b\"], [0.6666666666666666, \"#ed7953\"], [0.7777777777777778, \"#fb9f3a\"], [0.8888888888888888, \"#fdca26\"], [1.0, \"#f0f921\"]], \"sequentialminus\": [[0.0, \"#0d0887\"], [0.1111111111111111, \"#46039f\"], [0.2222222222222222, \"#7201a8\"], [0.3333333333333333, \"#9c179e\"], [0.4444444444444444, \"#bd3786\"], [0.5555555555555556, \"#d8576b\"], [0.6666666666666666, \"#ed7953\"], [0.7777777777777778, \"#fb9f3a\"], [0.8888888888888888, \"#fdca26\"], [1.0, \"#f0f921\"]]}, \"colorway\": [\"#636efa\", \"#EF553B\", \"#00cc96\", \"#ab63fa\", \"#FFA15A\", \"#19d3f3\", \"#FF6692\", \"#B6E880\", \"#FF97FF\", \"#FECB52\"], \"font\": {\"color\": \"#2a3f5f\"}, \"geo\": {\"bgcolor\": \"white\", \"lakecolor\": \"white\", \"landcolor\": \"#E5ECF6\", \"showlakes\": true, \"showland\": true, \"subunitcolor\": \"white\"}, \"hoverlabel\": {\"align\": \"left\"}, \"hovermode\": \"closest\", \"mapbox\": {\"style\": \"light\"}, \"paper_bgcolor\": \"white\", \"plot_bgcolor\": \"#E5ECF6\", \"polar\": {\"angularaxis\": {\"gridcolor\": \"white\", \"linecolor\": \"white\", \"ticks\": \"\"}, \"bgcolor\": \"#E5ECF6\", \"radialaxis\": {\"gridcolor\": \"white\", \"linecolor\": \"white\", \"ticks\": \"\"}}, \"scene\": {\"xaxis\": {\"backgroundcolor\": \"#E5ECF6\", \"gridcolor\": \"white\", \"gridwidth\": 2, \"linecolor\": \"white\", \"showbackground\": true, \"ticks\": \"\", \"zerolinecolor\": \"white\"}, \"yaxis\": {\"backgroundcolor\": \"#E5ECF6\", \"gridcolor\": \"white\", \"gridwidth\": 2, \"linecolor\": \"white\", \"showbackground\": true, \"ticks\": \"\", \"zerolinecolor\": \"white\"}, \"zaxis\": {\"backgroundcolor\": \"#E5ECF6\", \"gridcolor\": \"white\", \"gridwidth\": 2, \"linecolor\": \"white\", \"showbackground\": true, \"ticks\": \"\", \"zerolinecolor\": \"white\"}}, \"shapedefaults\": {\"line\": {\"color\": \"#2a3f5f\"}}, \"ternary\": {\"aaxis\": {\"gridcolor\": \"white\", \"linecolor\": \"white\", \"ticks\": \"\"}, \"baxis\": {\"gridcolor\": \"white\", \"linecolor\": \"white\", \"ticks\": \"\"}, \"bgcolor\": \"#E5ECF6\", \"caxis\": {\"gridcolor\": \"white\", \"linecolor\": \"white\", \"ticks\": \"\"}}, \"title\": {\"x\": 0.05}, \"xaxis\": {\"automargin\": true, \"gridcolor\": \"white\", \"linecolor\": \"white\", \"ticks\": \"\", \"title\": {\"standoff\": 15}, \"zerolinecolor\": \"white\", \"zerolinewidth\": 2}, \"yaxis\": {\"automargin\": true, \"gridcolor\": \"white\", \"linecolor\": \"white\", \"ticks\": \"\", \"title\": {\"standoff\": 15}, \"zerolinecolor\": \"white\", \"zerolinewidth\": 2}}}},\n",
              "                        {\"responsive\": true}\n",
              "                    ).then(function(){\n",
              "                            \n",
              "var gd = document.getElementById('b4126dcb-4ee9-436f-b46e-41adaa09b00e');\n",
              "var x = new MutationObserver(function (mutations, observer) {{\n",
              "        var display = window.getComputedStyle(gd).display;\n",
              "        if (!display || display === 'none') {{\n",
              "            console.log([gd, 'removed!']);\n",
              "            Plotly.purge(gd);\n",
              "            observer.disconnect();\n",
              "        }}\n",
              "}});\n",
              "\n",
              "// Listen for the removal of the full notebook cells\n",
              "var notebookContainer = gd.closest('#notebook-container');\n",
              "if (notebookContainer) {{\n",
              "    x.observe(notebookContainer, {childList: true});\n",
              "}}\n",
              "\n",
              "// Listen for the clearing of the current output cell\n",
              "var outputEl = gd.closest('.output');\n",
              "if (outputEl) {{\n",
              "    x.observe(outputEl, {childList: true});\n",
              "}}\n",
              "\n",
              "                        })\n",
              "                };\n",
              "                \n",
              "            </script>\n",
              "        </div>\n",
              "</body>\n",
              "</html>"
            ]
          },
          "metadata": {}
        }
      ]
    }
  ]
}
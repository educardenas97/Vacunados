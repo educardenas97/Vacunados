{
  "nbformat": 4,
  "nbformat_minor": 0,
  "metadata": {
    "colab": {
      "name": "Model 2.0.ipynb",
      "provenance": [],
      "collapsed_sections": [],
      "mount_file_id": "1_a1hROYR248kc1LyoeaZJ8nCIfYwRyPi",
      "authorship_tag": "ABX9TyND4JCK9iZdR0P5ZBoRTsAl",
      "include_colab_link": true
    },
    "kernelspec": {
      "name": "python3",
      "display_name": "Python 3"
    },
    "language_info": {
      "name": "python"
    }
  },
  "cells": [
    {
      "cell_type": "markdown",
      "metadata": {
        "id": "view-in-github",
        "colab_type": "text"
      },
      "source": [
        "<a href=\"https://colab.research.google.com/github/educardenas97/Vacunados/blob/master/Model_2_0.ipynb\" target=\"_parent\"><img src=\"https://colab.research.google.com/assets/colab-badge.svg\" alt=\"Open In Colab\"/></a>"
      ]
    },
    {
      "cell_type": "code",
      "metadata": {
        "id": "9PY9mAoVw6Qp"
      },
      "source": [
        "!wget https://www.mspbs.gov.py/xweb/vacunados.csv  -P /tmp/ -o vacunados.csv --no-check-certificate"
      ],
      "execution_count": null,
      "outputs": []
    },
    {
      "cell_type": "code",
      "metadata": {
        "id": "vc2_yI2q9iFw",
        "colab": {
          "base_uri": "https://localhost:8080/"
        },
        "outputId": "11012819-b2d6-48ac-80af-f52954115216"
      },
      "source": [
        "!pip install category_encoders\n",
        "\n",
        "from datetime import datetime\n",
        "import pandas as pd\n",
        "import numpy as np\n",
        "import matplotlib.pyplot as plt\n",
        "import gc\n",
        "import os\n",
        "import category_encoders as ce\n",
        "import tensorflow as tf\n",
        "\n",
        "csv = pd.read_csv('/content/drive/MyDrive/Colab Notebooks/vacunados/dataset/vacunados.csv', sep=';')\n",
        "csv_2 = pd.read_csv('/content/drive/MyDrive/Colab Notebooks/vacunados/dataset/padron.csv', sep=',')"
      ],
      "execution_count": null,
      "outputs": [
        {
          "output_type": "stream",
          "name": "stdout",
          "text": [
            "Requirement already satisfied: category_encoders in /usr/local/lib/python3.7/dist-packages (2.3.0)\n",
            "Requirement already satisfied: patsy>=0.5.1 in /usr/local/lib/python3.7/dist-packages (from category_encoders) (0.5.2)\n",
            "Requirement already satisfied: statsmodels>=0.9.0 in /usr/local/lib/python3.7/dist-packages (from category_encoders) (0.10.2)\n",
            "Requirement already satisfied: scipy>=1.0.0 in /usr/local/lib/python3.7/dist-packages (from category_encoders) (1.4.1)\n",
            "Requirement already satisfied: pandas>=0.21.1 in /usr/local/lib/python3.7/dist-packages (from category_encoders) (1.1.5)\n",
            "Requirement already satisfied: numpy>=1.14.0 in /usr/local/lib/python3.7/dist-packages (from category_encoders) (1.19.5)\n",
            "Requirement already satisfied: scikit-learn>=0.20.0 in /usr/local/lib/python3.7/dist-packages (from category_encoders) (1.0.1)\n",
            "Requirement already satisfied: python-dateutil>=2.7.3 in /usr/local/lib/python3.7/dist-packages (from pandas>=0.21.1->category_encoders) (2.8.2)\n",
            "Requirement already satisfied: pytz>=2017.2 in /usr/local/lib/python3.7/dist-packages (from pandas>=0.21.1->category_encoders) (2018.9)\n",
            "Requirement already satisfied: six in /usr/local/lib/python3.7/dist-packages (from patsy>=0.5.1->category_encoders) (1.15.0)\n",
            "Requirement already satisfied: threadpoolctl>=2.0.0 in /usr/local/lib/python3.7/dist-packages (from scikit-learn>=0.20.0->category_encoders) (3.0.0)\n",
            "Requirement already satisfied: joblib>=0.11 in /usr/local/lib/python3.7/dist-packages (from scikit-learn>=0.20.0->category_encoders) (1.1.0)\n"
          ]
        }
      ]
    },
    {
      "cell_type": "code",
      "metadata": {
        "id": "STtF01bS9KzU",
        "colab": {
          "base_uri": "https://localhost:8080/"
        },
        "outputId": "b7a0a526-61d3-47ae-d977-80160e4c95c7"
      },
      "source": [
        "#Filter data\n",
        "data = csv.copy()\n",
        "data = data.drop_duplicates()\n",
        "data = data[data['cedula'].astype(str).str.isdigit()]\n",
        "data['cedula'] = pd.to_numeric(data['cedula'])\n",
        "data['dosis'] = data['dosis'].astype(int)\n",
        "data['fecha_aplicacion'] = pd.to_datetime(data['fecha_aplicacion']).dt.date\n",
        "data['semana'] = data['fecha_aplicacion'] -  data['fecha_aplicacion'].min()\n",
        "data['semana'] = (data['semana']).dt.days\n",
        "data = data[data['cedula']<90000000]\n",
        "data = data[data['dosis'] == 1]\n",
        "#Inner join\n",
        "padron = csv_2.copy().drop(columns='date')\n",
        "join_dataframe = data.join(padron.set_index('id'), on='cedula', how='inner')\n",
        "join_dataframe.drop(inplace=True, columns=['actualizado_al','fecha_aplicacion','nombre','apellido','establecimiento','dosis'])\n",
        "\n",
        "print(join_dataframe.columns)"
      ],
      "execution_count": null,
      "outputs": [
        {
          "output_type": "stream",
          "name": "stdout",
          "text": [
            "Index(['cedula', 'descripcion_vacuna', 'semana', 'year'], dtype='object')\n"
          ]
        }
      ]
    },
    {
      "cell_type": "code",
      "metadata": {
        "id": "UxpDf1WhtPkK",
        "colab": {
          "base_uri": "https://localhost:8080/",
          "height": 1000
        },
        "outputId": "e5ed8fd9-1800-42f9-81a6-ae808d61eb5e"
      },
      "source": [
        "#Distribución\n",
        "#join_dataframe['year'].plot.kde()\n",
        "#Primera parte\n",
        "mean = join_dataframe\n",
        "view = mean.groupby('descripcion_vacuna').median()\n",
        "print(view.sort_values(by='year'))\n",
        "#Edad vs vacunas\n",
        "fig, ax = plt.subplots()\n",
        "ax.scatter(view['year'], view.index)\n",
        "ax.set_xlabel('edad')\n",
        "#Semanas vs edad\n",
        "fig, ax = plt.subplots()\n",
        "view = mean.groupby('semana').median()\n",
        "ax.scatter(view.index, view['year'])\n",
        "ax.set_ylabel('edad')\n",
        "ax.set_xlabel('semana')\n",
        "#Semanas vs cedula\n",
        "fig, ax = plt.subplots()\n",
        "view = mean.groupby('semana').median()\n",
        "ax.scatter(view.index, view['cedula'], c='green')\n",
        "ax.set_ylabel('cedula')\n",
        "ax.set_xlabel('semana')\n"
      ],
      "execution_count": null,
      "outputs": [
        {
          "output_type": "stream",
          "name": "stdout",
          "text": [
            "                                     cedula  semana  year\n",
            "descripcion_vacuna                                       \n",
            "COVAXIN COVID-19                   970627.0      66  1952\n",
            "HAYAT VAX COVID-19                 741629.5     100  1958\n",
            "ASTRAZENECA-CHADOX1-S - COVID-19  1201764.5     114  1964\n",
            "SPUTNIK V COVID-19                3198196.5     133  1981\n",
            "MODERNA - COVID -19               3510755.0     134  1984\n",
            "CORONAVAC COVID-19                3784224.0      20  1986\n",
            "PFIZER - COVID -19                4499542.5     150  1991\n",
            "SINOPHARM COVID-19                5283778.5     241  1996\n"
          ]
        },
        {
          "output_type": "execute_result",
          "data": {
            "text/plain": [
              "Text(0.5, 0, 'semana')"
            ]
          },
          "metadata": {},
          "execution_count": 4
        },
        {
          "output_type": "display_data",
          "data": {
            "image/png": "[encoded data removed]",
            "text/plain": [
              "<Figure size 432x288 with 1 Axes>"
            ]
          },
          "metadata": {
            "needs_background": "light"
          }
        },
        {
          "output_type": "display_data",
          "data": {
            "image/png": "[encoded data removed]",
            "text/plain": [
              "<Figure size 432x288 with 1 Axes>"
            ]
          },
          "metadata": {
            "needs_background": "light"
          }
        },
        {
          "output_type": "display_data",
          "data": {
            "image/png": "[encoded data removed]",
            "text/plain": [
              "<Figure size 432x288 with 1 Axes>"
            ]
          },
          "metadata": {
            "needs_background": "light"
          }
        }
      ]
    },
    {
      "cell_type": "code",
      "metadata": {
        "colab": {
          "base_uri": "https://localhost:8080/",
          "height": 542
        },
        "id": "Oo3CDlzHxxkK",
        "outputId": "cbf5fcb3-1cc1-4d74-a991-ae7243d69055"
      },
      "source": [
        "import plotly.express as px\n",
        "fig = px.scatter_3d(join_dataframe.sample(n=199), x='cedula', y='semana', z='year', color='descripcion_vacuna')\n",
        "fig.show()"
      ],
      "execution_count": null,
      "outputs": [
        {
          "output_type": "display_data",
          "data": {
            "text/html": [
              "<html>\n",
              "<head><meta charset=\"utf-8\" /></head>\n",
              "<body>\n",
              "    <div>\n",
              "            <script src=\"https://cdnjs.cloudflare.com/ajax/libs/mathjax/2.7.5/MathJax.js?config=TeX-AMS-MML_SVG\"></script><script type=\"text/javascript\">if (window.MathJax) {MathJax.Hub.Config({SVG: {font: \"STIX-Web\"}});}</script>\n",
              "                <script type=\"text/javascript\">window.PlotlyConfig = {MathJaxConfig: 'local'};</script>\n",
              "        <script src=\"https://cdn.plot.ly/plotly-latest.min.js\"></script>    \n",
              "            <div id=\"f469b884-c3f6-4a10-b63a-b7ff6db63072\" class=\"plotly-graph-div\" style=\"height:525px; width:100%;\"></div>\n",
              "            <script type=\"text/javascript\">\n",
              "                \n",
              "                    window.PLOTLYENV=window.PLOTLYENV || {};\n",
              "                    \n",
              "                if (document.getElementById(\"f469b884-c3f6-4a10-b63a-b7ff6db63072\")) {\n",
              "                    Plotly.newPlot(\n",
              "                        'f469b884-c3f6-4a10-b63a-b7ff6db63072',\n",
              "                        [{\"hoverlabel\": {\"namelength\": 0}, \"hovertemplate\": \"descripcion_vacuna=ASTRAZENECA-CHADOX1-S - COVID-19<br>cedula=%{x}<br>semana=%{y}<br>year=%{z}\", \"legendgroup\": \"descripcion_vacuna=ASTRAZENECA-CHADOX1-S - COVID-19\", \"marker\": {\"color\": \"#636efa\", \"symbol\": \"circle\"}, \"mode\": \"markers\", \"name\": \"descripcion_vacuna=ASTRAZENECA-CHADOX1-S - COVID-19\", \"scene\": \"scene\", \"showlegend\": true, \"type\": \"scatter3d\", \"x\": [2611201, 808912, 441131, 2509457, 741516, 4729927, 325514, 1416648, 1455124, 1042156, 1014371, 1296340, 531101, 4786471, 1296294, 3753999, 1536561, 4699581, 1177782, 3320392, 367980, 743840, 1418253, 1750889, 7060025, 803959, 312107, 646710, 2393220, 299209, 1250594, 287666, 1178382, 1305283, 2446605, 2913504, 868293, 1056631, 4641504, 1060303, 244809, 2113058, 808814, 2009439, 1049036, 1260707, 4173402, 3813516, 714463, 1088378, 5488701, 2666233, 1177391, 266702, 364328], \"y\": [110, 110, 85, 218, 80, 217, 71, 128, 110, 30, 85, 126, 85, 280, 120, 263, 245, 217, 126, 110, 85, 110, 110, 118, 280, 111, 67, 110, 234, 67, 110, 72, 106, 126, 102, 266, 110, 110, 31, 110, 81, 203, 107, 121, 115, 115, 217, 36, 106, 111, 262, 135, 85, 66, 79], \"z\": [1957, 1962, 1955, 1978, 1945, 1988, 1944, 1970, 1963, 1965, 1953, 1970, 1955, 1994, 1969, 1979, 1971, 1984, 1970, 1958, 1952, 1964, 1956, 1961, 2003, 1963, 1944, 1965, 1969, 1943, 1960, 1943, 1961, 1970, 1959, 1973, 1961, 1966, 1995, 1966, 1948, 1935, 1960, 1964, 1966, 1966, 1981, 1985, 1961, 1964, 2003, 1953, 1954, 1943, 1950]}, {\"hoverlabel\": {\"namelength\": 0}, \"hovertemplate\": \"descripcion_vacuna=PFIZER - COVID -19<br>cedula=%{x}<br>semana=%{y}<br>year=%{z}\", \"legendgroup\": \"descripcion_vacuna=PFIZER - COVID -19\", \"marker\": {\"color\": \"#EF553B\", \"symbol\": \"circle\"}, \"mode\": \"markers\", \"name\": \"descripcion_vacuna=PFIZER - COVID -19\", \"scene\": \"scene\", \"showlegend\": true, \"type\": \"scatter3d\", \"x\": [7585413, 4488979, 4900236, 4016450, 2919451, 3522999, 5838569, 4562008, 5937414, 1930208, 5689496, 4826032, 1325533, 3816365, 6008790, 782382, 5502547, 5663631, 2005907, 3414956, 4707963, 5024337, 4964147, 3391698, 4657381, 1385204, 5261240, 2065415, 1388831, 5812196, 1199910, 3377744, 3388957, 2968778, 5859316, 4849782, 3023050, 5772791, 2203770, 3800122, 3190362, 4045133, 1517487, 5063342, 7127239, 5999261, 2348805, 4186095, 5555928, 4682317, 4607186, 1064635, 5004188, 5375846, 6795691, 4789789, 3503171, 5130895, 3396817, 3232030, 4331103, 4211423, 5387714, 1816728, 1549810, 2694885, 4869258, 2337693, 5550037, 1862214, 4968712, 5010568, 4007731, 1433428, 4705722, 4378861, 2443201, 6081960, 6174354, 1604257, 1358533, 5168407, 6341446], \"y\": [150, 150, 155, 147, 141, 219, 156, 151, 204, 154, 210, 142, 140, 143, 149, 142, 149, 210, 142, 144, 150, 151, 155, 142, 149, 154, 218, 141, 142, 155, 147, 154, 155, 151, 155, 150, 141, 141, 141, 142, 141, 150, 144, 150, 197, 141, 140, 143, 156, 155, 148, 154, 156, 155, 149, 152, 141, 246, 144, 142, 142, 140, 154, 145, 147, 140, 156, 140, 155, 143, 217, 156, 141, 140, 218, 149, 141, 210, 154, 144, 149, 155, 155], \"z\": [1992, 1989, 1999, 1992, 1983, 1981, 2001, 1994, 2002, 1979, 2003, 1986, 1982, 1983, 2000, 1972, 1997, 2003, 1973, 1975, 1994, 1988, 1993, 1986, 1989, 1974, 1993, 1977, 1982, 2000, 1955, 1986, 1991, 1989, 1993, 1993, 1976, 1979, 1981, 1983, 1980, 1995, 1972, 1996, 2000, 1984, 1976, 1986, 1991, 2000, 1997, 1973, 1991, 1995, 1997, 1995, 1984, 1997, 1983, 1977, 1986, 1984, 2001, 1985, 1972, 1980, 1990, 1977, 1999, 1974, 1993, 1993, 1985, 1973, 1994, 1987, 1980, 2003, 2001, 1978, 1974, 1991, 1998]}, {\"hoverlabel\": {\"namelength\": 0}, \"hovertemplate\": \"descripcion_vacuna=SPUTNIK V COVID-19<br>cedula=%{x}<br>semana=%{y}<br>year=%{z}\", \"legendgroup\": \"descripcion_vacuna=SPUTNIK V COVID-19\", \"marker\": {\"color\": \"#00cc96\", \"symbol\": \"circle\"}, \"mode\": \"markers\", \"name\": \"descripcion_vacuna=SPUTNIK V COVID-19\", \"scene\": \"scene\", \"showlegend\": true, \"type\": \"scatter3d\", \"x\": [3988746, 4673430, 2503639, 6161240, 5713630, 345199, 429392, 885780, 4508510, 3371945, 3425456, 1788870, 3506377, 5633135, 708746, 1014039, 569501, 2303912, 6065131, 3269645, 5029948, 5056780, 1743201, 5389029, 4665805, 4664939, 5022425, 2842611, 1664389, 5286856, 1858214, 4920365, 873551, 3816095, 1057403, 1484849], \"y\": [133, 198, 132, 149, 58, 85, 108, 114, 54, 143, 132, 112, 115, 134, 108, 109, 98, 134, 131, 143, 147, 147, 89, 135, 198, 132, 198, 131, 143, 135, 134, 198, 112, 132, 113, 53], \"z\": [1992, 1989, 1977, 1997, 2001, 1952, 1954, 1959, 1992, 1976, 1979, 1964, 1993, 2002, 1961, 1961, 1960, 1984, 2001, 1980, 1997, 1996, 1949, 1996, 1988, 1993, 1992, 1983, 1970, 1999, 1973, 1988, 1960, 1988, 1966, 1982]}, {\"hoverlabel\": {\"namelength\": 0}, \"hovertemplate\": \"descripcion_vacuna=MODERNA - COVID -19<br>cedula=%{x}<br>semana=%{y}<br>year=%{z}\", \"legendgroup\": \"descripcion_vacuna=MODERNA - COVID -19\", \"marker\": {\"color\": \"#ab63fa\", \"symbol\": \"circle\"}, \"mode\": \"markers\", \"name\": \"descripcion_vacuna=MODERNA - COVID -19\", \"scene\": \"scene\", \"showlegend\": true, \"type\": \"scatter3d\", \"x\": [4929364, 5047017, 5928800, 5662296, 4345405, 4592873, 4196230, 5611105, 4061495, 4016703, 2511070], \"y\": [135, 135, 224, 144, 140, 198, 135, 133, 140, 135, 134], \"z\": [1989, 1999, 2003, 1984, 1990, 1989, 1993, 2003, 1994, 1996, 1987]}, {\"hoverlabel\": {\"namelength\": 0}, \"hovertemplate\": \"descripcion_vacuna=COVAXIN COVID-19<br>cedula=%{x}<br>semana=%{y}<br>year=%{z}\", \"legendgroup\": \"descripcion_vacuna=COVAXIN COVID-19\", \"marker\": {\"color\": \"#FFA15A\", \"symbol\": \"circle\"}, \"mode\": \"markers\", \"name\": \"descripcion_vacuna=COVAXIN COVID-19\", \"scene\": \"scene\", \"showlegend\": true, \"type\": \"scatter3d\", \"x\": [573672, 241930, 2595713, 220763, 3704495, 263431, 420385], \"y\": [50, 65, 50, 78, 51, 65, 64], \"z\": [1934, 1937, 1932, 1947, 1988, 1944, 1956]}, {\"hoverlabel\": {\"namelength\": 0}, \"hovertemplate\": \"descripcion_vacuna=HAYAT VAX COVID-19<br>cedula=%{x}<br>semana=%{y}<br>year=%{z}\", \"legendgroup\": \"descripcion_vacuna=HAYAT VAX COVID-19\", \"marker\": {\"color\": \"#19d3f3\", \"symbol\": \"circle\"}, \"mode\": \"markers\", \"name\": \"descripcion_vacuna=HAYAT VAX COVID-19\", \"scene\": \"scene\", \"showlegend\": true, \"type\": \"scatter3d\", \"x\": [523046, 2807412, 1688997, 580953, 3999143], \"y\": [101, 99, 106, 99, 101], \"z\": [1957, 1958, 1972, 1957, 1985]}, {\"hoverlabel\": {\"namelength\": 0}, \"hovertemplate\": \"descripcion_vacuna=CORONAVAC COVID-19<br>cedula=%{x}<br>semana=%{y}<br>year=%{z}\", \"legendgroup\": \"descripcion_vacuna=CORONAVAC COVID-19\", \"marker\": {\"color\": \"#FF6692\", \"symbol\": \"circle\"}, \"mode\": \"markers\", \"name\": \"descripcion_vacuna=CORONAVAC COVID-19\", \"scene\": \"scene\", \"showlegend\": true, \"type\": \"scatter3d\", \"x\": [5610250, 3416845], \"y\": [198, 18], \"z\": [1995, 1981]}],\n",
              "                        {\"legend\": {\"tracegroupgap\": 0}, \"margin\": {\"t\": 60}, \"scene\": {\"domain\": {\"x\": [0.0, 1.0], \"y\": [0.0, 1.0]}, \"xaxis\": {\"title\": {\"text\": \"cedula\"}}, \"yaxis\": {\"title\": {\"text\": \"semana\"}}, \"zaxis\": {\"title\": {\"text\": \"year\"}}}, \"template\": {\"data\": {\"bar\": [{\"error_x\": {\"color\": \"#2a3f5f\"}, \"error_y\": {\"color\": \"#2a3f5f\"}, \"marker\": {\"line\": {\"color\": \"#E5ECF6\", \"width\": 0.5}}, \"type\": \"bar\"}], \"barpolar\": [{\"marker\": {\"line\": {\"color\": \"#E5ECF6\", \"width\": 0.5}}, \"type\": \"barpolar\"}], \"carpet\": [{\"aaxis\": {\"endlinecolor\": \"#2a3f5f\", \"gridcolor\": \"white\", \"linecolor\": \"white\", \"minorgridcolor\": \"white\", \"startlinecolor\": \"#2a3f5f\"}, \"baxis\": {\"endlinecolor\": \"#2a3f5f\", \"gridcolor\": \"white\", \"linecolor\": \"white\", \"minorgridcolor\": \"white\", \"startlinecolor\": \"#2a3f5f\"}, \"type\": \"carpet\"}], \"choropleth\": [{\"colorbar\": {\"outlinewidth\": 0, \"ticks\": \"\"}, \"type\": \"choropleth\"}], \"contour\": [{\"colorbar\": {\"outlinewidth\": 0, \"ticks\": \"\"}, \"colorscale\": [[0.0, \"#0d0887\"], [0.1111111111111111, \"#46039f\"], [0.2222222222222222, \"#7201a8\"], [0.3333333333333333, \"#9c179e\"], [0.4444444444444444, \"#bd3786\"], [0.5555555555555556, \"#d8576b\"], [0.6666666666666666, \"#ed7953\"], [0.7777777777777778, \"#fb9f3a\"], [0.8888888888888888, \"#fdca26\"], [1.0, \"#f0f921\"]], \"type\": \"contour\"}], \"contourcarpet\": [{\"colorbar\": {\"outlinewidth\": 0, \"ticks\": \"\"}, \"type\": \"contourcarpet\"}], \"heatmap\": [{\"colorbar\": {\"outlinewidth\": 0, \"ticks\": \"\"}, \"colorscale\": [[0.0, \"#0d0887\"], [0.1111111111111111, \"#46039f\"], [0.2222222222222222, \"#7201a8\"], [0.3333333333333333, \"#9c179e\"], [0.4444444444444444, \"#bd3786\"], [0.5555555555555556, \"#d8576b\"], [0.6666666666666666, \"#ed7953\"], [0.7777777777777778, \"#fb9f3a\"], [0.8888888888888888, \"#fdca26\"], [1.0, \"#f0f921\"]], \"type\": \"heatmap\"}], \"heatmapgl\": [{\"colorbar\": {\"outlinewidth\": 0, \"ticks\": \"\"}, \"colorscale\": [[0.0, \"#0d0887\"], [0.1111111111111111, \"#46039f\"], [0.2222222222222222, \"#7201a8\"], [0.3333333333333333, \"#9c179e\"], [0.4444444444444444, \"#bd3786\"], [0.5555555555555556, \"#d8576b\"], [0.6666666666666666, \"#ed7953\"], [0.7777777777777778, \"#fb9f3a\"], [0.8888888888888888, \"#fdca26\"], [1.0, \"#f0f921\"]], \"type\": \"heatmapgl\"}], \"histogram\": [{\"marker\": {\"colorbar\": {\"outlinewidth\": 0, \"ticks\": \"\"}}, \"type\": \"histogram\"}], \"histogram2d\": [{\"colorbar\": {\"outlinewidth\": 0, \"ticks\": \"\"}, \"colorscale\": [[0.0, \"#0d0887\"], [0.1111111111111111, \"#46039f\"], [0.2222222222222222, \"#7201a8\"], [0.3333333333333333, \"#9c179e\"], [0.4444444444444444, \"#bd3786\"], [0.5555555555555556, \"#d8576b\"], [0.6666666666666666, \"#ed7953\"], [0.7777777777777778, \"#fb9f3a\"], [0.8888888888888888, \"#fdca26\"], [1.0, \"#f0f921\"]], \"type\": \"histogram2d\"}], \"histogram2dcontour\": [{\"colorbar\": {\"outlinewidth\": 0, \"ticks\": \"\"}, \"colorscale\": [[0.0, \"#0d0887\"], [0.1111111111111111, \"#46039f\"], [0.2222222222222222, \"#7201a8\"], [0.3333333333333333, \"#9c179e\"], [0.4444444444444444, \"#bd3786\"], [0.5555555555555556, \"#d8576b\"], [0.6666666666666666, \"#ed7953\"], [0.7777777777777778, \"#fb9f3a\"], [0.8888888888888888, \"#fdca26\"], [1.0, \"#f0f921\"]], \"type\": \"histogram2dcontour\"}], \"mesh3d\": [{\"colorbar\": {\"outlinewidth\": 0, \"ticks\": \"\"}, \"type\": \"mesh3d\"}], \"parcoords\": [{\"line\": {\"colorbar\": {\"outlinewidth\": 0, \"ticks\": \"\"}}, \"type\": \"parcoords\"}], \"pie\": [{\"automargin\": true, \"type\": \"pie\"}], \"scatter\": [{\"marker\": {\"colorbar\": {\"outlinewidth\": 0, \"ticks\": \"\"}}, \"type\": \"scatter\"}], \"scatter3d\": [{\"line\": {\"colorbar\": {\"outlinewidth\": 0, \"ticks\": \"\"}}, \"marker\": {\"colorbar\": {\"outlinewidth\": 0, \"ticks\": \"\"}}, \"type\": \"scatter3d\"}], \"scattercarpet\": [{\"marker\": {\"colorbar\": {\"outlinewidth\": 0, \"ticks\": \"\"}}, \"type\": \"scattercarpet\"}], \"scattergeo\": [{\"marker\": {\"colorbar\": {\"outlinewidth\": 0, \"ticks\": \"\"}}, \"type\": \"scattergeo\"}], \"scattergl\": [{\"marker\": {\"colorbar\": {\"outlinewidth\": 0, \"ticks\": \"\"}}, \"type\": \"scattergl\"}], \"scattermapbox\": [{\"marker\": {\"colorbar\": {\"outlinewidth\": 0, \"ticks\": \"\"}}, \"type\": \"scattermapbox\"}], \"scatterpolar\": [{\"marker\": {\"colorbar\": {\"outlinewidth\": 0, \"ticks\": \"\"}}, \"type\": \"scatterpolar\"}], \"scatterpolargl\": [{\"marker\": {\"colorbar\": {\"outlinewidth\": 0, \"ticks\": \"\"}}, \"type\": \"scatterpolargl\"}], \"scatterternary\": [{\"marker\": {\"colorbar\": {\"outlinewidth\": 0, \"ticks\": \"\"}}, \"type\": \"scatterternary\"}], \"surface\": [{\"colorbar\": {\"outlinewidth\": 0, \"ticks\": \"\"}, \"colorscale\": [[0.0, \"#0d0887\"], [0.1111111111111111, \"#46039f\"], [0.2222222222222222, \"#7201a8\"], [0.3333333333333333, \"#9c179e\"], [0.4444444444444444, \"#bd3786\"], [0.5555555555555556, \"#d8576b\"], [0.6666666666666666, \"#ed7953\"], [0.7777777777777778, \"#fb9f3a\"], [0.8888888888888888, \"#fdca26\"], [1.0, \"#f0f921\"]], \"type\": \"surface\"}], \"table\": [{\"cells\": {\"fill\": {\"color\": \"#EBF0F8\"}, \"line\": {\"color\": \"white\"}}, \"header\": {\"fill\": {\"color\": \"#C8D4E3\"}, \"line\": {\"color\": \"white\"}}, \"type\": \"table\"}]}, \"layout\": {\"annotationdefaults\": {\"arrowcolor\": \"#2a3f5f\", \"arrowhead\": 0, \"arrowwidth\": 1}, \"coloraxis\": {\"colorbar\": {\"outlinewidth\": 0, \"ticks\": \"\"}}, \"colorscale\": {\"diverging\": [[0, \"#8e0152\"], [0.1, \"#c51b7d\"], [0.2, \"#de77ae\"], [0.3, \"#f1b6da\"], [0.4, \"#fde0ef\"], [0.5, \"#f7f7f7\"], [0.6, \"#e6f5d0\"], [0.7, \"#b8e186\"], [0.8, \"#7fbc41\"], [0.9, \"#4d9221\"], [1, \"#276419\"]], \"sequential\": [[0.0, \"#0d0887\"], [0.1111111111111111, \"#46039f\"], [0.2222222222222222, \"#7201a8\"], [0.3333333333333333, \"#9c179e\"], [0.4444444444444444, \"#bd3786\"], [0.5555555555555556, \"#d8576b\"], [0.6666666666666666, \"#ed7953\"], [0.7777777777777778, \"#fb9f3a\"], [0.8888888888888888, \"#fdca26\"], [1.0, \"#f0f921\"]], \"sequentialminus\": [[0.0, \"#0d0887\"], [0.1111111111111111, \"#46039f\"], [0.2222222222222222, \"#7201a8\"], [0.3333333333333333, \"#9c179e\"], [0.4444444444444444, \"#bd3786\"], [0.5555555555555556, \"#d8576b\"], [0.6666666666666666, \"#ed7953\"], [0.7777777777777778, \"#fb9f3a\"], [0.8888888888888888, \"#fdca26\"], [1.0, \"#f0f921\"]]}, \"colorway\": [\"#636efa\", \"#EF553B\", \"#00cc96\", \"#ab63fa\", \"#FFA15A\", \"#19d3f3\", \"#FF6692\", \"#B6E880\", \"#FF97FF\", \"#FECB52\"], \"font\": {\"color\": \"#2a3f5f\"}, \"geo\": {\"bgcolor\": \"white\", \"lakecolor\": \"white\", \"landcolor\": \"#E5ECF6\", \"showlakes\": true, \"showland\": true, \"subunitcolor\": \"white\"}, \"hoverlabel\": {\"align\": \"left\"}, \"hovermode\": \"closest\", \"mapbox\": {\"style\": \"light\"}, \"paper_bgcolor\": \"white\", \"plot_bgcolor\": \"#E5ECF6\", \"polar\": {\"angularaxis\": {\"gridcolor\": \"white\", \"linecolor\": \"white\", \"ticks\": \"\"}, \"bgcolor\": \"#E5ECF6\", \"radialaxis\": {\"gridcolor\": \"white\", \"linecolor\": \"white\", \"ticks\": \"\"}}, \"scene\": {\"xaxis\": {\"backgroundcolor\": \"#E5ECF6\", \"gridcolor\": \"white\", \"gridwidth\": 2, \"linecolor\": \"white\", \"showbackground\": true, \"ticks\": \"\", \"zerolinecolor\": \"white\"}, \"yaxis\": {\"backgroundcolor\": \"#E5ECF6\", \"gridcolor\": \"white\", \"gridwidth\": 2, \"linecolor\": \"white\", \"showbackground\": true, \"ticks\": \"\", \"zerolinecolor\": \"white\"}, \"zaxis\": {\"backgroundcolor\": \"#E5ECF6\", \"gridcolor\": \"white\", \"gridwidth\": 2, \"linecolor\": \"white\", \"showbackground\": true, \"ticks\": \"\", \"zerolinecolor\": \"white\"}}, \"shapedefaults\": {\"line\": {\"color\": \"#2a3f5f\"}}, \"ternary\": {\"aaxis\": {\"gridcolor\": \"white\", \"linecolor\": \"white\", \"ticks\": \"\"}, \"baxis\": {\"gridcolor\": \"white\", \"linecolor\": \"white\", \"ticks\": \"\"}, \"bgcolor\": \"#E5ECF6\", \"caxis\": {\"gridcolor\": \"white\", \"linecolor\": \"white\", \"ticks\": \"\"}}, \"title\": {\"x\": 0.05}, \"xaxis\": {\"automargin\": true, \"gridcolor\": \"white\", \"linecolor\": \"white\", \"ticks\": \"\", \"title\": {\"standoff\": 15}, \"zerolinecolor\": \"white\", \"zerolinewidth\": 2}, \"yaxis\": {\"automargin\": true, \"gridcolor\": \"white\", \"linecolor\": \"white\", \"ticks\": \"\", \"title\": {\"standoff\": 15}, \"zerolinecolor\": \"white\", \"zerolinewidth\": 2}}}},\n",
              "                        {\"responsive\": true}\n",
              "                    ).then(function(){\n",
              "                            \n",
              "var gd = document.getElementById('f469b884-c3f6-4a10-b63a-b7ff6db63072');\n",
              "var x = new MutationObserver(function (mutations, observer) {{\n",
              "        var display = window.getComputedStyle(gd).display;\n",
              "        if (!display || display === 'none') {{\n",
              "            console.log([gd, 'removed!']);\n",
              "            Plotly.purge(gd);\n",
              "            observer.disconnect();\n",
              "        }}\n",
              "}});\n",
              "\n",
              "// Listen for the removal of the full notebook cells\n",
              "var notebookContainer = gd.closest('#notebook-container');\n",
              "if (notebookContainer) {{\n",
              "    x.observe(notebookContainer, {childList: true});\n",
              "}}\n",
              "\n",
              "// Listen for the clearing of the current output cell\n",
              "var outputEl = gd.closest('.output');\n",
              "if (outputEl) {{\n",
              "    x.observe(outputEl, {childList: true});\n",
              "}}\n",
              "\n",
              "                        })\n",
              "                };\n",
              "                \n",
              "            </script>\n",
              "        </div>\n",
              "</body>\n",
              "</html>"
            ]
          },
          "metadata": {}
        }
      ]
    },
    {
      "cell_type": "code",
      "source": [
        "encoder = ce.OneHotEncoder(cols='descripcion_vacuna',handle_unknown='return_nan',return_df=True,use_cat_names=True)\n",
        "\n",
        "#encoder=ce.sum_coding.SumEncoder(cols='City',verbose=False,)\n",
        "dataframe_encoding = encoder.fit_transform(join_dataframe)\n",
        "print(dataframe_encoding.columns)\n",
        "\n",
        "#normalize\n",
        "dataframe_encoding['cedula'] = dataframe_encoding['cedula'] / dataframe_encoding['cedula'].abs().max()\n",
        "#dataframe_encoding['year'] = dataframe_encoding['year'] / dataframe_encoding['year'].abs().max()\n",
        "dataframe_encoding['semana'] = dataframe_encoding['semana'] / dataframe_encoding['semana'].abs().max()\n",
        "#test data\n",
        "test_data = dataframe_encoding.sample(frac=0.3, random_state=1, weights='cedula')\n",
        "test_data = test_data.set_index('cedula')\n",
        "dataframe_encoding = dataframe_encoding.set_index('cedula')\n",
        "dataframe_encoding = dataframe_encoding.drop(index=test_data.index)\n",
        "dataframe_encoding = dataframe_encoding.reset_index()\n",
        "test_data = test_data.reset_index()\n",
        "#train data\n",
        "output_data = dataframe_encoding['year']\n",
        "dataframe_encoding = dataframe_encoding.drop(columns='year')\n",
        "input_data = dataframe_encoding\n",
        "#print(output_data.to_numpy())\n",
        "print(output_data.to_numpy())"
      ],
      "metadata": {
        "colab": {
          "base_uri": "https://localhost:8080/"
        },
        "id": "MevpZdl2iq0o",
        "outputId": "813cecff-964e-49df-9334-f02a46387113"
      },
      "execution_count": null,
      "outputs": [
        {
          "output_type": "stream",
          "name": "stdout",
          "text": [
            "Index(['cedula', 'descripcion_vacuna_SPUTNIK V COVID-19',\n",
            "       'descripcion_vacuna_ASTRAZENECA-CHADOX1-S - COVID-19',\n",
            "       'descripcion_vacuna_PFIZER - COVID -19',\n",
            "       'descripcion_vacuna_MODERNA - COVID -19',\n",
            "       'descripcion_vacuna_HAYAT VAX COVID-19',\n",
            "       'descripcion_vacuna_COVAXIN COVID-19',\n",
            "       'descripcion_vacuna_CORONAVAC COVID-19',\n",
            "       'descripcion_vacuna_SINOPHARM COVID-19', 'semana', 'year'],\n",
            "      dtype='object')\n",
            "[1976 1985 1973 ... 1979 1986 1971]\n"
          ]
        }
      ]
    },
    {
      "cell_type": "code",
      "source": [
        "#print(output_data)\n",
        "#print(input_data.keys())\n",
        "#arquitectura de la red\n",
        "model = tf.keras.models.Sequential()\n",
        "model.add(tf.keras.layers.Input(shape=[len(input_data.keys())]))\n",
        "model.add(tf.keras.layers.Dense(24, activation='relu'))\n",
        "model.add(tf.keras.layers.Dense(49, activation='relu'))\n",
        "model.add(tf.keras.layers.Dense(24, activation='relu'))\n",
        "model.add(tf.keras.layers.Dense(24, activation='relu'))\n",
        "model.add(tf.keras.layers.Dense(49, activation='relu'))\n",
        "model.add(tf.keras.layers.Dense(24, activation='relu'))\n",
        "model.add(tf.keras.layers.Dense(1))\n",
        "\n",
        "model.compile(optimizer='Adam', loss='MeanAbsoluteError', metrics=['mae', 'mse'])\n",
        "model.summary()\n",
        "model.fit(x=input_data, y=output_data, validation_split=0.1, epochs=3)\n",
        "\n",
        "output_test = test_data['cedula']\n",
        "input_test = test_data.drop(columns='cedula')\n",
        "\n",
        "print(\"Evaluate on test data\")\n",
        "results = model.evaluate(input_test.to_numpy(), output_test.to_numpy())\n",
        "print(\"test loss, test acc:\", results)"
      ],
      "metadata": {
        "colab": {
          "base_uri": "https://localhost:8080/"
        },
        "id": "NTR-9Chvd30i",
        "outputId": "863677f3-871e-4f12-886e-55ca8684fc0e"
      },
      "execution_count": null,
      "outputs": [
        {
          "output_type": "stream",
          "name": "stdout",
          "text": [
            "Model: \"sequential_93\"\n",
            "_________________________________________________________________\n",
            " Layer (type)                Output Shape              Param #   \n",
            "=================================================================\n",
            " dense_363 (Dense)           (None, 24)                264       \n",
            "                                                                 \n",
            " dense_364 (Dense)           (None, 49)                1225      \n",
            "                                                                 \n",
            " dense_365 (Dense)           (None, 24)                1200      \n",
            "                                                                 \n",
            " dense_366 (Dense)           (None, 24)                600       \n",
            "                                                                 \n",
            " dense_367 (Dense)           (None, 49)                1225      \n",
            "                                                                 \n",
            " dense_368 (Dense)           (None, 24)                1200      \n",
            "                                                                 \n",
            " dense_369 (Dense)           (None, 1)                 25        \n",
            "                                                                 \n",
            "=================================================================\n",
            "Total params: 5,739\n",
            "Trainable params: 5,739\n",
            "Non-trainable params: 0\n",
            "_________________________________________________________________\n",
            "Epoch 1/3\n",
            "11532/11532 [==============================] - 32s 3ms/step - loss: 26.9275 - mae: 26.9275 - mse: 31079.5469 - val_loss: 8.0819 - val_mae: 8.0819 - val_mse: 104.3805\n",
            "Epoch 2/3\n",
            "11532/11532 [==============================] - 27s 2ms/step - loss: 7.3993 - mae: 7.3993 - mse: 96.1085 - val_loss: 4.9708 - val_mae: 4.9708 - val_mse: 44.6734\n",
            "Epoch 3/3\n",
            "11532/11532 [==============================] - 28s 2ms/step - loss: 7.2260 - mae: 7.2260 - mse: 90.6976 - val_loss: 4.8813 - val_mae: 4.8813 - val_mse: 43.2571\n",
            "Evaluate on test data\n",
            "5499/5499 [==============================] - 11s 2ms/step - loss: 508686.3750 - mae: 508686.3750 - mse: 258774548480.0000\n",
            "test loss, test acc: [508686.375, 508686.375, 258774548480.0]\n"
          ]
        }
      ]
    },
    {
      "cell_type": "code",
      "source": [
        "evaluate = []\n",
        "evaluate.append(659580/join_dataframe['cedula'].abs().max())\n",
        "evaluate.append(1)\n",
        "evaluate.append(0)\n",
        "evaluate.append(0)\n",
        "evaluate.append(0)\n",
        "evaluate.append(0)\n",
        "evaluate.append(0)\n",
        "evaluate.append(0)\n",
        "evaluate.append(0)\n",
        "\n",
        "date = datetime.strptime('01/04/2021', '%d/%m/%Y').now().date() -  data['fecha_aplicacion'].min()\n",
        "date = date.days/join_dataframe['semana'].abs().max()\n",
        "evaluate.append(date)\n",
        "#*join_dataframe['year'].abs().max()\n",
        "print(model.predict([evaluate]))"
      ],
      "metadata": {
        "colab": {
          "base_uri": "https://localhost:8080/"
        },
        "id": "9R6ERw-J7oNs",
        "outputId": "f3215e0b-11e2-4afd-de39-3d57f5f77935"
      },
      "execution_count": null,
      "outputs": [
        {
          "output_type": "stream",
          "name": "stdout",
          "text": [
            "[[1968.0468]]\n"
          ]
        }
      ]
    }
  ]
}